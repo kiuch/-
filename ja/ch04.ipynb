{
  "cells": [
    {
      "cell_type": "markdown",
      "id": "4d5cd462-0ddc-48c0-848c-bc46be0af9fd",
      "metadata": {
        "editable": true,
        "id": "4d5cd462-0ddc-48c0-848c-bc46be0af9fd",
        "tags": []
      },
      "source": [
        "# 第4章: 言語解析\n",
        "\n",
        "問題30から問題35までは、以下の文章`text`（太宰治の『走れメロス』の冒頭部分）に対して、言語解析を実施せよ。問題36から問題39までは、国家を説明した文書群（日本語版ウィキペディア記事から抽出したテキスト群）をコーパスとして、言語解析を実施せよ。"
      ]
    },
    {
      "cell_type": "code",
      "execution_count": null,
      "id": "7e6766b0-630b-4b78-8312-27e6f8104e7b",
      "metadata": {
        "editable": true,
        "id": "7e6766b0-630b-4b78-8312-27e6f8104e7b",
        "tags": []
      },
      "outputs": [],
      "source": [
        "text = \"\"\"\n",
        "メロスは激怒した。\n",
        "必ず、かの邪智暴虐の王を除かなければならぬと決意した。\n",
        "メロスには政治がわからぬ。\n",
        "メロスは、村の牧人である。\n",
        "笛を吹き、羊と遊んで暮して来た。\n",
        "けれども邪悪に対しては、人一倍に敏感であった。\n",
        "\"\"\""
      ]
    },
    {
      "cell_type": "markdown",
      "id": "80e3790d-077d-453a-b981-964f609fc4be",
      "metadata": {
        "id": "80e3790d-077d-453a-b981-964f609fc4be"
      },
      "source": [
        "## 30. 動詞\n",
        "文章`text`に含まれる動詞をすべて表示せよ。"
      ]
    },
    {
      "cell_type": "code",
      "metadata": {
        "colab": {
          "base_uri": "https://localhost:8080/"
        },
        "id": "03e1da7d",
        "outputId": "571407a9-b6ca-415f-8b8e-2acaa576eb60"
      },
      "source": [
        "%pip install janome"
      ],
      "id": "03e1da7d",
      "execution_count": 1,
      "outputs": [
        {
          "output_type": "stream",
          "name": "stdout",
          "text": [
            "Collecting janome\n",
            "  Downloading Janome-0.5.0-py2.py3-none-any.whl.metadata (2.6 kB)\n",
            "Downloading Janome-0.5.0-py2.py3-none-any.whl (19.7 MB)\n",
            "\u001b[2K   \u001b[90m━━━━━━━━━━━━━━━━━━━━━━━━━━━━━━━━━━━━━━━━\u001b[0m \u001b[32m19.7/19.7 MB\u001b[0m \u001b[31m52.8 MB/s\u001b[0m eta \u001b[36m0:00:00\u001b[0m\n",
            "\u001b[?25hInstalling collected packages: janome\n",
            "Successfully installed janome-0.5.0\n"
          ]
        }
      ]
    },
    {
      "cell_type": "code",
      "metadata": {
        "colab": {
          "base_uri": "https://localhost:8080/"
        },
        "id": "80bd74d6",
        "outputId": "4dcbcf3a-88cc-47d3-c699-8638fee56edb"
      },
      "source": [
        "from janome.tokenizer import Tokenizer\n",
        "\n",
        "text = \"\"\"\n",
        "メロスは激怒した。\n",
        "必ず、かの邪智暴虐の王を除かなければならぬと決意した。\n",
        "メロスには政治がわからぬ。\n",
        "メロスは、村の牧人である。\n",
        "笛を吹き、羊と遊んで暮して来た。\n",
        "けれども邪悪に対しては、人一倍に敏感であった。\n",
        "\"\"\"\n",
        "\n",
        "t = Tokenizer()\n",
        "verbs = []\n",
        "for token in t.tokenize(text):\n",
        "  if token.part_of_speech.split(',')[0] == '動詞':\n",
        "    verbs.append(token.surface)\n",
        "\n",
        "print(\"文章中の動詞:\")\n",
        "for verb in verbs:\n",
        "  print(verb)"
      ],
      "id": "80bd74d6",
      "execution_count": 3,
      "outputs": [
        {
          "output_type": "stream",
          "name": "stdout",
          "text": [
            "文章中の動詞:\n",
            "し\n",
            "除か\n",
            "なら\n",
            "し\n",
            "わから\n",
            "吹き\n",
            "遊ん\n",
            "暮し\n",
            "来\n"
          ]
        }
      ]
    },
    {
      "cell_type": "code",
      "source": [],
      "metadata": {
        "id": "fO6htpQI7Zsy"
      },
      "id": "fO6htpQI7Zsy",
      "execution_count": null,
      "outputs": []
    },
    {
      "cell_type": "markdown",
      "id": "5fd1d613-8375-4837-b534-a01451eddf98",
      "metadata": {
        "id": "5fd1d613-8375-4837-b534-a01451eddf98"
      },
      "source": [
        "## 31. 動詞の原型\n",
        "文章`text`に含まれる動詞と、その原型をすべて表示せよ。"
      ]
    },
    {
      "cell_type": "code",
      "source": [
        "from janome.tokenizer import Tokenizer\n",
        "\n",
        "text = \"\"\"\n",
        "メロスは激怒した。\n",
        "必ず、かの邪智暴虐の王を除かなければならぬと決意した。\n",
        "メロスには政治がわからぬ。\n",
        "メロスは、村の牧人である。\n",
        "笛を吹き、羊と遊んで暮して来た。\n",
        "けれども邪悪に対しては、人一倍に敏感であった。\n",
        "\"\"\"\n",
        "\n",
        "t = Tokenizer()\n",
        "verbs_with_base = []\n",
        "for token in t.tokenize(text):\n",
        "  if token.part_of_speech.split(',')[0] == '動詞':\n",
        "    verbs_with_base.append((token.surface, token.base_form))\n",
        "\n",
        "print(\"文章中の動詞とその原型:\")\n",
        "for verb, base_form in verbs_with_base:\n",
        "  print(f\"{verb} (原型: {base_form})\")"
      ],
      "metadata": {
        "colab": {
          "base_uri": "https://localhost:8080/"
        },
        "id": "Oa0UMOfF7xre",
        "outputId": "7b326b1d-3959-4ad5-df26-12317334a477"
      },
      "id": "Oa0UMOfF7xre",
      "execution_count": 4,
      "outputs": [
        {
          "output_type": "stream",
          "name": "stdout",
          "text": [
            "文章中の動詞とその原型:\n",
            "し (原型: する)\n",
            "除か (原型: 除く)\n",
            "なら (原型: なる)\n",
            "し (原型: する)\n",
            "わから (原型: わかる)\n",
            "吹き (原型: 吹く)\n",
            "遊ん (原型: 遊ぶ)\n",
            "暮し (原型: 暮す)\n",
            "来 (原型: 来る)\n"
          ]
        }
      ]
    },
    {
      "cell_type": "markdown",
      "id": "34558343-a286-429b-b3ee-b1e6b3ca4561",
      "metadata": {
        "id": "34558343-a286-429b-b3ee-b1e6b3ca4561"
      },
      "source": [
        "## 32. 「AのB」\n",
        "文章`text`において、2つの名詞が「の」で連結されている名詞句をすべて抽出せよ。"
      ]
    },
    {
      "cell_type": "code",
      "source": [
        "from janome.tokenizer import Tokenizer\n",
        "\n",
        "text = \"\"\"\n",
        "メロスは激怒した。\n",
        "必ず、かの邪智暴虐の王を除かなければならぬと決意した。\n",
        "メロスには政治がわからぬ。\n",
        "メロスは、村の牧人である。\n",
        "笛を吹き、羊と遊んで暮して来た。\n",
        "けれども邪悪に対しては、人一倍に敏感であった。\n",
        "\"\"\"\n",
        "\n",
        "t = Tokenizer()\n",
        "tokens = list(t.tokenize(text))\n",
        "noun_phrases = []\n",
        "\n",
        "for i in range(len(tokens) - 2):\n",
        "    if (tokens[i].part_of_speech.split(',')[0] == '名詞' and\n",
        "        tokens[i+1].surface == 'の' and\n",
        "        tokens[i+2].part_of_speech.split(',')[0] == '名詞'):\n",
        "        noun_phrases.append(tokens[i].surface + tokens[i+1].surface + tokens[i+2].surface)\n",
        "\n",
        "print(\"「A の B」の形式で連結されている名詞句:\")\n",
        "for phrase in noun_phrases:\n",
        "    print(phrase)"
      ],
      "metadata": {
        "colab": {
          "base_uri": "https://localhost:8080/"
        },
        "id": "_wzjMT9J75yb",
        "outputId": "edf2c61c-9e1e-4dad-e5bd-cafc8d3a5446"
      },
      "id": "_wzjMT9J75yb",
      "execution_count": 5,
      "outputs": [
        {
          "output_type": "stream",
          "name": "stdout",
          "text": [
            "「A の B」の形式で連結されている名詞句:\n",
            "暴虐の王\n",
            "村の牧人\n"
          ]
        }
      ]
    },
    {
      "cell_type": "markdown",
      "id": "7cac9c74-cd83-42d3-8cde-a4a0f4200094",
      "metadata": {
        "id": "7cac9c74-cd83-42d3-8cde-a4a0f4200094"
      },
      "source": [
        "## 33. 係り受け解析\n",
        "\n",
        "文章`text`に係り受け解析を適用し、係り元と係り先のトークン（形態素や文節などの単位）をタブ区切り形式ですべて抽出せよ。"
      ]
    },
    {
      "cell_type": "code",
      "source": [
        "import spacy\n",
        "import ipadic\n",
        "\n",
        "# Load the Japanese model\n",
        "nlp = spacy.load(\"ja_core_news_sm\")\n",
        "\n",
        "text = \"\"\"\n",
        "メロスは激怒した。\n",
        "必ず、かの邪智暴虐の王を除かなければならぬと決意した。\n",
        "メロスには政治がわからぬ。\n",
        "メロスは、村の牧人である。\n",
        "笛を吹き、羊と遊んで暮して来た。\n",
        "けれども邪悪に対しては、人一倍に敏感であった。\n",
        "\"\"\"\n",
        "\n",
        "doc = nlp(text)\n",
        "\n",
        "print(\"係り元\\t係り先\")\n",
        "for sent in doc.sents:\n",
        "    for token in sent:\n",
        "        if token.head is not token:\n",
        "            print(f\"{token.text}\\t{token.head.text}\")"
      ],
      "metadata": {
        "colab": {
          "base_uri": "https://localhost:8080/"
        },
        "id": "7lDOfvZy8AvC",
        "outputId": "6d86f5fd-3fd1-4385-f2ee-a92dbe4adaad"
      },
      "id": "7lDOfvZy8AvC",
      "execution_count": 9,
      "outputs": [
        {
          "output_type": "stream",
          "name": "stdout",
          "text": [
            "係り元\t係り先\n",
            "\n",
            "\t\n",
            "\n",
            "メロス\t激怒\n",
            "は\tメロス\n",
            "激怒\t激怒\n",
            "し\t激怒\n",
            "た\t激怒\n",
            "。\t激怒\n",
            "\n",
            "\t。\n",
            "必ず\t決意\n",
            "、\t必ず\n",
            "かの\t除か\n",
            "邪智\t暴虐\n",
            "暴虐\t王\n",
            "の\t暴虐\n",
            "王\t除か\n",
            "を\t王\n",
            "除か\t決意\n",
            "なけれ\t除か\n",
            "ば\tなけれ\n",
            "なら\tなけれ\n",
            "ぬ\tなけれ\n",
            "と\t除か\n",
            "決意\t決意\n",
            "し\t決意\n",
            "た\t決意\n",
            "。\t決意\n",
            "\n",
            "\t。\n",
            "メロス\tわから\n",
            "に\tメロス\n",
            "は\tメロス\n",
            "政治\tわから\n",
            "が\t政治\n",
            "わから\tわから\n",
            "ぬ\tわから\n",
            "。\tわから\n",
            "\n",
            "\t。\n",
            "メロス\t牧人\n",
            "は\tメロス\n",
            "、\tメロス\n",
            "村\t牧人\n",
            "の\t村\n",
            "牧人\t牧人\n",
            "で\t牧人\n",
            "ある\tで\n",
            "。\t牧人\n",
            "\n",
            "\t。\n",
            "笛\t吹き\n",
            "を\t笛\n",
            "吹き\t暮し\n",
            "、\t吹き\n",
            "羊\t暮し\n",
            "と\t羊\n",
            "遊ん\t暮し\n",
            "で\t遊ん\n",
            "暮し\t暮し\n",
            "て\t暮し\n",
            "来\t暮し\n",
            "た\t暮し\n",
            "。\t暮し\n",
            "\n",
            "\t\n",
            "\n",
            "けれど\tけれど\n",
            "も\tも\n",
            "邪悪\t敏感\n",
            "に\t邪悪\n",
            "対し\tに\n",
            "ては\tに\n",
            "、\t邪悪\n",
            "人\t倍\n",
            "一\t倍\n",
            "倍\t敏感\n",
            "に\t倍\n",
            "敏感\t敏感\n",
            "で\t敏感\n",
            "あっ\tで\n",
            "た\t敏感\n",
            "。\t敏感\n",
            "\n",
            "\t\n",
            "\n"
          ]
        }
      ]
    },
    {
      "cell_type": "markdown",
      "id": "eb49b4d2-9869-4f43-9cd8-9e79e0c1b40f",
      "metadata": {
        "id": "eb49b4d2-9869-4f43-9cd8-9e79e0c1b40f"
      },
      "source": [
        "## 34. 主述の関係\n",
        "文章`text`において、「メロス」が主語であるときの述語を抽出せよ。"
      ]
    },
    {
      "cell_type": "code",
      "source": [
        "import spacy\n",
        "import ipadic\n",
        "\n",
        "# Load the Japanese model\n",
        "nlp = spacy.load(\"ja_core_news_sm\")\n",
        "\n",
        "text = \"\"\"\n",
        "メロスは激怒した。\n",
        "必ず、かの邪智暴虐の王を除かなければならぬと決意した。\n",
        "メロスには政治がわからぬ。\n",
        "メロスは、村の牧人である。\n",
        "笛を吹き、羊と遊んで暮して来た。\n",
        "けれども邪悪に対しては、人一倍に敏感であった。\n",
        "\"\"\"\n",
        "\n",
        "doc = nlp(text)\n",
        "\n",
        "print(\"「メロス」が主語であるときの述語:\")\n",
        "for sent in doc.sents:\n",
        "    for token in sent:\n",
        "        if token.text == \"メロス\" and \"nsubj\" in [child.dep_ for child in token.children]:\n",
        "            print(token.head.text)"
      ],
      "metadata": {
        "colab": {
          "base_uri": "https://localhost:8080/"
        },
        "id": "0Fbfp24R8DkS",
        "outputId": "f5f2c518-afb6-48a4-87df-1912fb3ccba1"
      },
      "id": "0Fbfp24R8DkS",
      "execution_count": 8,
      "outputs": [
        {
          "output_type": "stream",
          "name": "stdout",
          "text": [
            "「メロス」が主語であるときの述語:\n"
          ]
        }
      ]
    },
    {
      "cell_type": "code",
      "metadata": {
        "colab": {
          "base_uri": "https://localhost:8080/"
        },
        "id": "71604152",
        "outputId": "99b6b73c-e2f6-4071-de0d-45665c4ac408"
      },
      "source": [
        "%pip install spacy ipadic\n",
        "!python -m spacy download ja_core_news_sm"
      ],
      "id": "71604152",
      "execution_count": 6,
      "outputs": [
        {
          "output_type": "stream",
          "name": "stdout",
          "text": [
            "Requirement already satisfied: spacy in /usr/local/lib/python3.12/dist-packages (3.8.7)\n",
            "Collecting ipadic\n",
            "  Downloading ipadic-1.0.0.tar.gz (13.4 MB)\n",
            "\u001b[2K     \u001b[90m━━━━━━━━━━━━━━━━━━━━━━━━━━━━━━━━━━━━━━━━\u001b[0m \u001b[32m13.4/13.4 MB\u001b[0m \u001b[31m74.7 MB/s\u001b[0m eta \u001b[36m0:00:00\u001b[0m\n",
            "\u001b[?25h  Preparing metadata (setup.py) ... \u001b[?25l\u001b[?25hdone\n",
            "Requirement already satisfied: spacy-legacy<3.1.0,>=3.0.11 in /usr/local/lib/python3.12/dist-packages (from spacy) (3.0.12)\n",
            "Requirement already satisfied: spacy-loggers<2.0.0,>=1.0.0 in /usr/local/lib/python3.12/dist-packages (from spacy) (1.0.5)\n",
            "Requirement already satisfied: murmurhash<1.1.0,>=0.28.0 in /usr/local/lib/python3.12/dist-packages (from spacy) (1.0.13)\n",
            "Requirement already satisfied: cymem<2.1.0,>=2.0.2 in /usr/local/lib/python3.12/dist-packages (from spacy) (2.0.11)\n",
            "Requirement already satisfied: preshed<3.1.0,>=3.0.2 in /usr/local/lib/python3.12/dist-packages (from spacy) (3.0.10)\n",
            "Requirement already satisfied: thinc<8.4.0,>=8.3.4 in /usr/local/lib/python3.12/dist-packages (from spacy) (8.3.6)\n",
            "Requirement already satisfied: wasabi<1.2.0,>=0.9.1 in /usr/local/lib/python3.12/dist-packages (from spacy) (1.1.3)\n",
            "Requirement already satisfied: srsly<3.0.0,>=2.4.3 in /usr/local/lib/python3.12/dist-packages (from spacy) (2.5.1)\n",
            "Requirement already satisfied: catalogue<2.1.0,>=2.0.6 in /usr/local/lib/python3.12/dist-packages (from spacy) (2.0.10)\n",
            "Requirement already satisfied: weasel<0.5.0,>=0.1.0 in /usr/local/lib/python3.12/dist-packages (from spacy) (0.4.1)\n",
            "Requirement already satisfied: typer<1.0.0,>=0.3.0 in /usr/local/lib/python3.12/dist-packages (from spacy) (0.20.0)\n",
            "Requirement already satisfied: tqdm<5.0.0,>=4.38.0 in /usr/local/lib/python3.12/dist-packages (from spacy) (4.67.1)\n",
            "Requirement already satisfied: numpy>=1.19.0 in /usr/local/lib/python3.12/dist-packages (from spacy) (2.0.2)\n",
            "Requirement already satisfied: requests<3.0.0,>=2.13.0 in /usr/local/lib/python3.12/dist-packages (from spacy) (2.32.4)\n",
            "Requirement already satisfied: pydantic!=1.8,!=1.8.1,<3.0.0,>=1.7.4 in /usr/local/lib/python3.12/dist-packages (from spacy) (2.11.10)\n",
            "Requirement already satisfied: jinja2 in /usr/local/lib/python3.12/dist-packages (from spacy) (3.1.6)\n",
            "Requirement already satisfied: setuptools in /usr/local/lib/python3.12/dist-packages (from spacy) (75.2.0)\n",
            "Requirement already satisfied: packaging>=20.0 in /usr/local/lib/python3.12/dist-packages (from spacy) (25.0)\n",
            "Requirement already satisfied: langcodes<4.0.0,>=3.2.0 in /usr/local/lib/python3.12/dist-packages (from spacy) (3.5.0)\n",
            "Requirement already satisfied: language-data>=1.2 in /usr/local/lib/python3.12/dist-packages (from langcodes<4.0.0,>=3.2.0->spacy) (1.3.0)\n",
            "Requirement already satisfied: annotated-types>=0.6.0 in /usr/local/lib/python3.12/dist-packages (from pydantic!=1.8,!=1.8.1,<3.0.0,>=1.7.4->spacy) (0.7.0)\n",
            "Requirement already satisfied: pydantic-core==2.33.2 in /usr/local/lib/python3.12/dist-packages (from pydantic!=1.8,!=1.8.1,<3.0.0,>=1.7.4->spacy) (2.33.2)\n",
            "Requirement already satisfied: typing-extensions>=4.12.2 in /usr/local/lib/python3.12/dist-packages (from pydantic!=1.8,!=1.8.1,<3.0.0,>=1.7.4->spacy) (4.15.0)\n",
            "Requirement already satisfied: typing-inspection>=0.4.0 in /usr/local/lib/python3.12/dist-packages (from pydantic!=1.8,!=1.8.1,<3.0.0,>=1.7.4->spacy) (0.4.2)\n",
            "Requirement already satisfied: charset_normalizer<4,>=2 in /usr/local/lib/python3.12/dist-packages (from requests<3.0.0,>=2.13.0->spacy) (3.4.4)\n",
            "Requirement already satisfied: idna<4,>=2.5 in /usr/local/lib/python3.12/dist-packages (from requests<3.0.0,>=2.13.0->spacy) (3.11)\n",
            "Requirement already satisfied: urllib3<3,>=1.21.1 in /usr/local/lib/python3.12/dist-packages (from requests<3.0.0,>=2.13.0->spacy) (2.5.0)\n",
            "Requirement already satisfied: certifi>=2017.4.17 in /usr/local/lib/python3.12/dist-packages (from requests<3.0.0,>=2.13.0->spacy) (2025.10.5)\n",
            "Requirement already satisfied: blis<1.4.0,>=1.3.0 in /usr/local/lib/python3.12/dist-packages (from thinc<8.4.0,>=8.3.4->spacy) (1.3.0)\n",
            "Requirement already satisfied: confection<1.0.0,>=0.0.1 in /usr/local/lib/python3.12/dist-packages (from thinc<8.4.0,>=8.3.4->spacy) (0.1.5)\n",
            "Requirement already satisfied: click>=8.0.0 in /usr/local/lib/python3.12/dist-packages (from typer<1.0.0,>=0.3.0->spacy) (8.3.0)\n",
            "Requirement already satisfied: shellingham>=1.3.0 in /usr/local/lib/python3.12/dist-packages (from typer<1.0.0,>=0.3.0->spacy) (1.5.4)\n",
            "Requirement already satisfied: rich>=10.11.0 in /usr/local/lib/python3.12/dist-packages (from typer<1.0.0,>=0.3.0->spacy) (13.9.4)\n",
            "Requirement already satisfied: cloudpathlib<1.0.0,>=0.7.0 in /usr/local/lib/python3.12/dist-packages (from weasel<0.5.0,>=0.1.0->spacy) (0.23.0)\n",
            "Requirement already satisfied: smart-open<8.0.0,>=5.2.1 in /usr/local/lib/python3.12/dist-packages (from weasel<0.5.0,>=0.1.0->spacy) (7.4.0)\n",
            "Requirement already satisfied: MarkupSafe>=2.0 in /usr/local/lib/python3.12/dist-packages (from jinja2->spacy) (3.0.3)\n",
            "Requirement already satisfied: marisa-trie>=1.1.0 in /usr/local/lib/python3.12/dist-packages (from language-data>=1.2->langcodes<4.0.0,>=3.2.0->spacy) (1.3.1)\n",
            "Requirement already satisfied: markdown-it-py>=2.2.0 in /usr/local/lib/python3.12/dist-packages (from rich>=10.11.0->typer<1.0.0,>=0.3.0->spacy) (4.0.0)\n",
            "Requirement already satisfied: pygments<3.0.0,>=2.13.0 in /usr/local/lib/python3.12/dist-packages (from rich>=10.11.0->typer<1.0.0,>=0.3.0->spacy) (2.19.2)\n",
            "Requirement already satisfied: wrapt in /usr/local/lib/python3.12/dist-packages (from smart-open<8.0.0,>=5.2.1->weasel<0.5.0,>=0.1.0->spacy) (2.0.0)\n",
            "Requirement already satisfied: mdurl~=0.1 in /usr/local/lib/python3.12/dist-packages (from markdown-it-py>=2.2.0->rich>=10.11.0->typer<1.0.0,>=0.3.0->spacy) (0.1.2)\n",
            "Building wheels for collected packages: ipadic\n",
            "  Building wheel for ipadic (setup.py) ... \u001b[?25l\u001b[?25hdone\n",
            "  Created wheel for ipadic: filename=ipadic-1.0.0-py3-none-any.whl size=13556704 sha256=fde7348fab347b4d4b5a4aa671a9228c49395de71520b86d91ced2563634a58c\n",
            "  Stored in directory: /root/.cache/pip/wheels/93/8b/55/dd5978a069678c372520847cf84ba2ec539cb41917c00a2206\n",
            "Successfully built ipadic\n",
            "Installing collected packages: ipadic\n",
            "Successfully installed ipadic-1.0.0\n",
            "Collecting ja-core-news-sm==3.8.0\n",
            "  Downloading https://github.com/explosion/spacy-models/releases/download/ja_core_news_sm-3.8.0/ja_core_news_sm-3.8.0-py3-none-any.whl (12.1 MB)\n",
            "\u001b[2K     \u001b[90m━━━━━━━━━━━━━━━━━━━━━━━━━━━━━━━━━━━━━━━\u001b[0m \u001b[32m12.1/12.1 MB\u001b[0m \u001b[31m101.0 MB/s\u001b[0m eta \u001b[36m0:00:00\u001b[0m\n",
            "\u001b[?25hCollecting sudachipy!=0.6.1,>=0.5.2 (from ja-core-news-sm==3.8.0)\n",
            "  Downloading SudachiPy-0.6.10-cp312-cp312-manylinux_2_17_x86_64.manylinux2014_x86_64.whl.metadata (12 kB)\n",
            "Collecting sudachidict-core>=20211220 (from ja-core-news-sm==3.8.0)\n",
            "  Downloading sudachidict_core-20250825-py3-none-any.whl.metadata (2.7 kB)\n",
            "Downloading sudachidict_core-20250825-py3-none-any.whl (72.2 MB)\n",
            "\u001b[2K   \u001b[90m━━━━━━━━━━━━━━━━━━━━━━━━━━━━━━━━━━━━━━━━\u001b[0m \u001b[32m72.2/72.2 MB\u001b[0m \u001b[31m10.6 MB/s\u001b[0m eta \u001b[36m0:00:00\u001b[0m\n",
            "\u001b[?25hDownloading SudachiPy-0.6.10-cp312-cp312-manylinux_2_17_x86_64.manylinux2014_x86_64.whl (1.7 MB)\n",
            "\u001b[2K   \u001b[90m━━━━━━━━━━━━━━━━━━━━━━━━━━━━━━━━━━━━━━━━\u001b[0m \u001b[32m1.7/1.7 MB\u001b[0m \u001b[31m64.2 MB/s\u001b[0m eta \u001b[36m0:00:00\u001b[0m\n",
            "\u001b[?25hInstalling collected packages: sudachipy, sudachidict-core, ja-core-news-sm\n",
            "Successfully installed ja-core-news-sm-3.8.0 sudachidict-core-20250825 sudachipy-0.6.10\n",
            "\u001b[38;5;2m✔ Download and installation successful\u001b[0m\n",
            "You can now load the package via spacy.load('ja_core_news_sm')\n",
            "\u001b[38;5;3m⚠ Restart to reload dependencies\u001b[0m\n",
            "If you are in a Jupyter or Colab notebook, you may need to restart Python in\n",
            "order to load all the package's dependencies. You can do this by selecting the\n",
            "'Restart kernel' or 'Restart runtime' option.\n"
          ]
        }
      ]
    },
    {
      "cell_type": "code",
      "metadata": {
        "colab": {
          "base_uri": "https://localhost:8080/"
        },
        "id": "a400cb3d",
        "outputId": "7207fcc6-f6f7-4e77-d9c4-7c046afa268a"
      },
      "source": [
        "import spacy\n",
        "import ipadic\n",
        "\n",
        "# Load the Japanese model\n",
        "nlp = spacy.load(\"ja_core_news_sm\")\n",
        "\n",
        "text = \"\"\"\n",
        "メロスは激怒した。\n",
        "必ず、かの邪智暴虐の王を除かなければならぬと決意した。\n",
        "メロスには政治がわからぬ。\n",
        "メロスは、村の牧人である。\n",
        "笛を吹き、羊と遊んで暮して来た。\n",
        "けれども邪悪に対しては、人一倍に敏感であった。\n",
        "\"\"\"\n",
        "\n",
        "doc = nlp(text)\n",
        "\n",
        "print(\"係り元\\t係り先\")\n",
        "for sent in doc.sents:\n",
        "    for token in sent:\n",
        "        if token.head is not token:\n",
        "            print(f\"{token.text}\\t{token.head.text}\")"
      ],
      "id": "a400cb3d",
      "execution_count": 7,
      "outputs": [
        {
          "output_type": "stream",
          "name": "stdout",
          "text": [
            "係り元\t係り先\n",
            "\n",
            "\t\n",
            "\n",
            "メロス\t激怒\n",
            "は\tメロス\n",
            "激怒\t激怒\n",
            "し\t激怒\n",
            "た\t激怒\n",
            "。\t激怒\n",
            "\n",
            "\t。\n",
            "必ず\t決意\n",
            "、\t必ず\n",
            "かの\t除か\n",
            "邪智\t暴虐\n",
            "暴虐\t王\n",
            "の\t暴虐\n",
            "王\t除か\n",
            "を\t王\n",
            "除か\t決意\n",
            "なけれ\t除か\n",
            "ば\tなけれ\n",
            "なら\tなけれ\n",
            "ぬ\tなけれ\n",
            "と\t除か\n",
            "決意\t決意\n",
            "し\t決意\n",
            "た\t決意\n",
            "。\t決意\n",
            "\n",
            "\t。\n",
            "メロス\tわから\n",
            "に\tメロス\n",
            "は\tメロス\n",
            "政治\tわから\n",
            "が\t政治\n",
            "わから\tわから\n",
            "ぬ\tわから\n",
            "。\tわから\n",
            "\n",
            "\t。\n",
            "メロス\t牧人\n",
            "は\tメロス\n",
            "、\tメロス\n",
            "村\t牧人\n",
            "の\t村\n",
            "牧人\t牧人\n",
            "で\t牧人\n",
            "ある\tで\n",
            "。\t牧人\n",
            "\n",
            "\t。\n",
            "笛\t吹き\n",
            "を\t笛\n",
            "吹き\t暮し\n",
            "、\t吹き\n",
            "羊\t暮し\n",
            "と\t羊\n",
            "遊ん\t暮し\n",
            "で\t遊ん\n",
            "暮し\t暮し\n",
            "て\t暮し\n",
            "来\t暮し\n",
            "た\t暮し\n",
            "。\t暮し\n",
            "\n",
            "\t\n",
            "\n",
            "けれど\tけれど\n",
            "も\tも\n",
            "邪悪\t敏感\n",
            "に\t邪悪\n",
            "対し\tに\n",
            "ては\tに\n",
            "、\t邪悪\n",
            "人\t倍\n",
            "一\t倍\n",
            "倍\t敏感\n",
            "に\t倍\n",
            "敏感\t敏感\n",
            "で\t敏感\n",
            "あっ\tで\n",
            "た\t敏感\n",
            "。\t敏感\n",
            "\n",
            "\t\n",
            "\n"
          ]
        }
      ]
    },
    {
      "cell_type": "markdown",
      "id": "ec8ba153-85e7-4cbe-bcc0-bb659409d494",
      "metadata": {
        "id": "ec8ba153-85e7-4cbe-bcc0-bb659409d494"
      },
      "source": [
        "## 35. 係り受け木\n",
        "「メロスは激怒した。」の係り受け木を可視化せよ。"
      ]
    },
    {
      "cell_type": "code",
      "source": [
        "import spacy\n",
        "from spacy import displacy\n",
        "import ipadic\n",
        "\n",
        "# Load the Japanese model\n",
        "nlp = spacy.load(\"ja_core_news_sm\")\n",
        "\n",
        "sentence_to_visualize = \"メロスは激怒した。\"\n",
        "doc = nlp(sentence_to_visualize)\n",
        "\n",
        "print(f\"'{sentence_to_visualize}' の係り受け木:\")\n",
        "displacy.render(doc, style=\"dep\", jupyter=True)"
      ],
      "metadata": {
        "colab": {
          "base_uri": "https://localhost:8080/",
          "height": 350
        },
        "id": "yXtzrP9n8pN6",
        "outputId": "bc2efebe-2bdb-49a1-e9a0-ed2871435a11"
      },
      "id": "yXtzrP9n8pN6",
      "execution_count": 10,
      "outputs": [
        {
          "output_type": "stream",
          "name": "stdout",
          "text": [
            "'メロスは激怒した。' の係り受け木:\n"
          ]
        },
        {
          "output_type": "display_data",
          "data": {
            "text/plain": [
              "<IPython.core.display.HTML object>"
            ],
            "text/html": [
              "<span class=\"tex2jax_ignore\"><svg xmlns=\"http://www.w3.org/2000/svg\" xmlns:xlink=\"http://www.w3.org/1999/xlink\" xml:lang=\"ja\" id=\"0fef1e2c42ad4327988bddbe90a8b219-0\" class=\"displacy\" width=\"925\" height=\"312.0\" direction=\"ltr\" style=\"max-width: none; height: 312.0px; color: #000000; background: #ffffff; font-family: Arial; direction: ltr\">\n",
              "<text class=\"displacy-token\" fill=\"currentColor\" text-anchor=\"middle\" y=\"222.0\">\n",
              "    <tspan class=\"displacy-word\" fill=\"currentColor\" x=\"50\">メロス</tspan>\n",
              "    <tspan class=\"displacy-tag\" dy=\"2em\" fill=\"currentColor\" x=\"50\">PROPN</tspan>\n",
              "</text>\n",
              "\n",
              "<text class=\"displacy-token\" fill=\"currentColor\" text-anchor=\"middle\" y=\"222.0\">\n",
              "    <tspan class=\"displacy-word\" fill=\"currentColor\" x=\"225\">は</tspan>\n",
              "    <tspan class=\"displacy-tag\" dy=\"2em\" fill=\"currentColor\" x=\"225\">ADP</tspan>\n",
              "</text>\n",
              "\n",
              "<text class=\"displacy-token\" fill=\"currentColor\" text-anchor=\"middle\" y=\"222.0\">\n",
              "    <tspan class=\"displacy-word\" fill=\"currentColor\" x=\"400\">激怒</tspan>\n",
              "    <tspan class=\"displacy-tag\" dy=\"2em\" fill=\"currentColor\" x=\"400\">VERB</tspan>\n",
              "</text>\n",
              "\n",
              "<text class=\"displacy-token\" fill=\"currentColor\" text-anchor=\"middle\" y=\"222.0\">\n",
              "    <tspan class=\"displacy-word\" fill=\"currentColor\" x=\"575\">し</tspan>\n",
              "    <tspan class=\"displacy-tag\" dy=\"2em\" fill=\"currentColor\" x=\"575\">AUX</tspan>\n",
              "</text>\n",
              "\n",
              "<text class=\"displacy-token\" fill=\"currentColor\" text-anchor=\"middle\" y=\"222.0\">\n",
              "    <tspan class=\"displacy-word\" fill=\"currentColor\" x=\"750\">た。</tspan>\n",
              "    <tspan class=\"displacy-tag\" dy=\"2em\" fill=\"currentColor\" x=\"750\">AUX</tspan>\n",
              "</text>\n",
              "\n",
              "<g class=\"displacy-arrow\">\n",
              "    <path class=\"displacy-arc\" id=\"arrow-0fef1e2c42ad4327988bddbe90a8b219-0-0\" stroke-width=\"2px\" d=\"M70,177.0 C70,2.0 400.0,2.0 400.0,177.0\" fill=\"none\" stroke=\"currentColor\"/>\n",
              "    <text dy=\"1.25em\" style=\"font-size: 0.8em; letter-spacing: 1px\">\n",
              "        <textPath xlink:href=\"#arrow-0fef1e2c42ad4327988bddbe90a8b219-0-0\" class=\"displacy-label\" startOffset=\"50%\" side=\"left\" fill=\"currentColor\" text-anchor=\"middle\">nsubj</textPath>\n",
              "    </text>\n",
              "    <path class=\"displacy-arrowhead\" d=\"M70,179.0 L62,167.0 78,167.0\" fill=\"currentColor\"/>\n",
              "</g>\n",
              "\n",
              "<g class=\"displacy-arrow\">\n",
              "    <path class=\"displacy-arc\" id=\"arrow-0fef1e2c42ad4327988bddbe90a8b219-0-1\" stroke-width=\"2px\" d=\"M70,177.0 C70,89.5 220.0,89.5 220.0,177.0\" fill=\"none\" stroke=\"currentColor\"/>\n",
              "    <text dy=\"1.25em\" style=\"font-size: 0.8em; letter-spacing: 1px\">\n",
              "        <textPath xlink:href=\"#arrow-0fef1e2c42ad4327988bddbe90a8b219-0-1\" class=\"displacy-label\" startOffset=\"50%\" side=\"left\" fill=\"currentColor\" text-anchor=\"middle\">case</textPath>\n",
              "    </text>\n",
              "    <path class=\"displacy-arrowhead\" d=\"M220.0,179.0 L228.0,167.0 212.0,167.0\" fill=\"currentColor\"/>\n",
              "</g>\n",
              "\n",
              "<g class=\"displacy-arrow\">\n",
              "    <path class=\"displacy-arc\" id=\"arrow-0fef1e2c42ad4327988bddbe90a8b219-0-2\" stroke-width=\"2px\" d=\"M420,177.0 C420,89.5 570.0,89.5 570.0,177.0\" fill=\"none\" stroke=\"currentColor\"/>\n",
              "    <text dy=\"1.25em\" style=\"font-size: 0.8em; letter-spacing: 1px\">\n",
              "        <textPath xlink:href=\"#arrow-0fef1e2c42ad4327988bddbe90a8b219-0-2\" class=\"displacy-label\" startOffset=\"50%\" side=\"left\" fill=\"currentColor\" text-anchor=\"middle\">aux</textPath>\n",
              "    </text>\n",
              "    <path class=\"displacy-arrowhead\" d=\"M570.0,179.0 L578.0,167.0 562.0,167.0\" fill=\"currentColor\"/>\n",
              "</g>\n",
              "\n",
              "<g class=\"displacy-arrow\">\n",
              "    <path class=\"displacy-arc\" id=\"arrow-0fef1e2c42ad4327988bddbe90a8b219-0-3\" stroke-width=\"2px\" d=\"M420,177.0 C420,2.0 750.0,2.0 750.0,177.0\" fill=\"none\" stroke=\"currentColor\"/>\n",
              "    <text dy=\"1.25em\" style=\"font-size: 0.8em; letter-spacing: 1px\">\n",
              "        <textPath xlink:href=\"#arrow-0fef1e2c42ad4327988bddbe90a8b219-0-3\" class=\"displacy-label\" startOffset=\"50%\" side=\"left\" fill=\"currentColor\" text-anchor=\"middle\">aux</textPath>\n",
              "    </text>\n",
              "    <path class=\"displacy-arrowhead\" d=\"M750.0,179.0 L758.0,167.0 742.0,167.0\" fill=\"currentColor\"/>\n",
              "</g>\n",
              "</svg></span>"
            ]
          },
          "metadata": {}
        }
      ]
    },
    {
      "cell_type": "markdown",
      "id": "b880d760-ea6c-4722-9a65-5b97a02ed192",
      "metadata": {
        "id": "b880d760-ea6c-4722-9a65-5b97a02ed192"
      },
      "source": [
        "## 36. 単語の出現頻度\n",
        "\n",
        "問題36から39までは、Wikipediaの記事を以下のフォーマットで書き出したファイル[jawiki-country.json.gz](/data/jawiki-country.json.gz)をコーパスと見なし、統計的な分析を行う。\n",
        "\n",
        "* 1行に1記事の情報がJSON形式で格納される\n",
        "* 各行には記事名が\"title\"キーに、記事本文が\"text\"キーの辞書オブジェクトに格納され、そのオブジェクトがJSON形式で書き出される\n",
        "* ファイル全体はgzipで圧縮される\n",
        "\n",
        "まず、第3章の処理内容を参考に、Wikipedia記事からマークアップを除去し、各記事のテキストを抽出せよ。そして、コーパスにおける単語（形態素）の出現頻度を求め、出現頻度の高い20語とその出現頻度を表示せよ。"
      ]
    },
    {
      "cell_type": "code",
      "source": [
        "import gzip\n",
        "import json\n",
        "import re\n",
        "from collections import Counter\n",
        "from janome.tokenizer import Tokenizer\n",
        "\n",
        "file_path = '/datalab/jawiki-country.json.gz'\n",
        "texts = []\n",
        "\n",
        "# Load and extract text from the gzipped JSON file\n",
        "with gzip.open(file_path, 'rt', encoding='utf-8') as f:\n",
        "    for line in f:\n",
        "        article = json.loads(line)\n",
        "        text = article['text']\n",
        "\n",
        "        # Basic markup removal (can be enhanced later)\n",
        "        text = re.sub(r'\\[\\[.*?\\]\\]', '', text) # Remove internal links\n",
        "        text = re.sub(r'\\{\\{.*?\\}\\}', '', text) # Remove templates\n",
        "        text = re.sub(r'</?.*?>', '', text) # Remove HTML tags\n",
        "        text = re.sub(r'\\[.*?\\]', '', text) # Remove external links\n",
        "        text = re.sub(r'\\|.*', '', text) # Remove table formatting (simple)\n",
        "        text = re.sub(r'\\*', '', text) # Remove list markers\n",
        "\n",
        "        texts.append(text)\n",
        "\n",
        "# Tokenize and count word frequencies\n",
        "t = Tokenizer()\n",
        "all_tokens = []\n",
        "for text in texts:\n",
        "    for token in t.tokenize(text):\n",
        "        all_tokens.append(token.surface)\n",
        "\n",
        "word_counts = Counter(all_tokens)\n",
        "\n",
        "# Display the top 20 most frequent words\n",
        "print(\"出現頻度の高い 20 語とその出現頻度:\")\n",
        "for word, count in word_counts.most_common(20):\n",
        "    print(f\"{word}: {count}\")"
      ],
      "metadata": {
        "colab": {
          "base_uri": "https://localhost:8080/"
        },
        "id": "fea7URPj-JiO",
        "outputId": "16b42aab-05a8-4777-aeb2-83d0ef16b043"
      },
      "id": "fea7URPj-JiO",
      "execution_count": 2,
      "outputs": [
        {
          "output_type": "stream",
          "name": "stdout",
          "text": [
            "出現頻度の高い 20 語とその出現頻度:\n",
            "、: 82936\n",
            "の: 81684\n",
            "。: 51163\n",
            "は: 49900\n",
            "に: 48129\n",
            " : 46884\n",
            "が: 43031\n",
            "を: 37356\n",
            "た: 34496\n",
            "で: 32263\n",
            "と: 26615\n",
            "て: 25395\n",
            "し: 24820\n",
            "\n",
            "\n",
            ": 18251\n",
            "年: 16162\n",
            "）: 15713\n",
            "（: 15404\n",
            "れ: 13661\n",
            "いる: 13268\n",
            "さ: 12384\n"
          ]
        }
      ]
    },
    {
      "cell_type": "markdown",
      "id": "e38bd27c-0644-4468-8b4d-99318b91c0cb",
      "metadata": {
        "id": "e38bd27c-0644-4468-8b4d-99318b91c0cb"
      },
      "source": [
        "## 37. 名詞の出現頻度\n",
        "コーパスにおける名詞の出現頻度を求め、出現頻度の高い20語とその出現頻度を表示せよ。"
      ]
    },
    {
      "cell_type": "code",
      "source": [
        "from collections import Counter\n",
        "from janome.tokenizer import Tokenizer\n",
        "\n",
        "# Assuming 'texts' variable is available from the previous cell (Problem 36)\n",
        "# If not, you might need to re-run the previous cell or load the data again.\n",
        "\n",
        "t = Tokenizer()\n",
        "noun_tokens = []\n",
        "for text in texts:\n",
        "    for token in t.tokenize(text):\n",
        "        # Check if the part of speech starts with '名詞' (Noun)\n",
        "        if token.part_of_speech.split(',')[0] == '名詞':\n",
        "            noun_tokens.append(token.surface)\n",
        "\n",
        "noun_counts = Counter(noun_tokens)\n",
        "\n",
        "print(\"出現頻度の高い 20 語とその出現頻度 (名詞):\")\n",
        "for word, count in noun_counts.most_common(20):\n",
        "    print(f\"{word}: {count}\")"
      ],
      "metadata": {
        "colab": {
          "base_uri": "https://localhost:8080/"
        },
        "id": "t61jByUNBqTB",
        "outputId": "b3a3fde2-0a79-4061-9c5f-ecc697660eee"
      },
      "id": "t61jByUNBqTB",
      "execution_count": 3,
      "outputs": [
        {
          "output_type": "stream",
          "name": "stdout",
          "text": [
            "出現頻度の高い 20 語とその出現頻度 (名詞):\n",
            "年: 16162\n",
            "===: 9709\n",
            "月: 7202\n",
            ".: 7087\n",
            "==: 6927\n",
            "人: 6698\n",
            "-: 6137\n",
            "の: 5959\n",
            "的: 4831\n",
            "こと: 4519\n",
            "日: 4462\n",
            "国: 4423\n",
            "1: 4364\n",
            "2: 3690\n",
            ",: 3347\n",
            "ため: 3337\n",
            "3: 3081\n",
            "世界: 2898\n",
            "政府: 2889\n",
            "日本: 2794\n"
          ]
        }
      ]
    },
    {
      "cell_type": "markdown",
      "id": "8a64fda0-5ee3-48ad-9071-f37f805951d3",
      "metadata": {
        "id": "8a64fda0-5ee3-48ad-9071-f37f805951d3"
      },
      "source": [
        "## 38. TF・IDF\n",
        "日本に関する記事における名詞のTF・IDFスコアを求め、TF・IDFスコア上位20語とそのTF, IDF, TF・IDFを表示せよ。"
      ]
    },
    {
      "cell_type": "code",
      "source": [
        "import math\n",
        "from collections import Counter\n",
        "from janome.tokenizer import Tokenizer\n",
        "\n",
        "# Assuming 'texts' and 'noun_counts' are available from previous cells\n",
        "# If not, you might need to re-run previous cells or load/process the data again.\n",
        "\n",
        "# Find the article about Japan\n",
        "japan_text = \"\"\n",
        "with gzip.open('/datalab/jawiki-country.json.gz', 'rt', encoding='utf-8') as f:\n",
        "    for line in f:\n",
        "        article = json.loads(line)\n",
        "        if article['title'] == '日本':\n",
        "            japan_text = article['text']\n",
        "            # Basic markup removal (same as in Problem 36)\n",
        "            japan_text = re.sub(r'\\[\\[.*?\\]\\]', '', japan_text)\n",
        "            japan_text = re.sub(r'\\{\\{.*?\\}\\}', '', japan_text)\n",
        "            japan_text = re.sub(r'</?.*?>', '', japan_text)\n",
        "            japan_text = re.sub(r'\\[.*?\\]', '', japan_text)\n",
        "            japan_text = re.sub(r'\\|.*', '', japan_text)\n",
        "            japan_text = re.sub(r'\\*', '', japan_text)\n",
        "            break # Stop once the Japan article is found\n",
        "\n",
        "if not japan_text:\n",
        "    print(\"日本に関する記事が見つかりませんでした。\")\n",
        "else:\n",
        "    # Tokenize nouns in the Japan article and calculate Term Frequency (TF)\n",
        "    t = Tokenizer()\n",
        "    japan_noun_tokens = []\n",
        "    for token in t.tokenize(japan_text):\n",
        "        if token.part_of_speech.split(',')[0] == '名詞':\n",
        "            japan_noun_tokens.append(token.surface)\n",
        "\n",
        "    japan_noun_counts = Counter(japan_noun_tokens)\n",
        "    total_nouns_in_japan = len(japan_noun_tokens)\n",
        "\n",
        "    # Calculate Inverse Document Frequency (IDF) for nouns\n",
        "    # We need the total number of documents (articles) for IDF.\n",
        "    # Assuming 'texts' from Problem 36 contains all article texts.\n",
        "    total_documents = len(texts)\n",
        "    idf_scores = {}\n",
        "    for word, count in noun_counts.items():\n",
        "        # Add 1 to the denominator to avoid division by zero for unseen words\n",
        "        idf_scores[word] = math.log(total_documents / (count + 1))\n",
        "\n",
        "\n",
        "    # Calculate TF-IDF for nouns in the Japan article\n",
        "    tfidf_scores = {}\n",
        "    for word, tf in japan_noun_counts.items():\n",
        "        if word in idf_scores:\n",
        "            # TF = count of word in document / total words in document\n",
        "            tf_normalized = tf / total_nouns_in_japan\n",
        "            tfidf_scores[word] = tf_normalized * idf_scores[word]\n",
        "\n",
        "    # Display the top 20 nouns by TF-IDF\n",
        "    print(\"日本に関する記事における名詞のTF・IDFスコア上位 20 語:\")\n",
        "    sorted_tfidf = sorted(tfidf_scores.items(), key=lambda item: item[1], reverse=True)\n",
        "\n",
        "    for word, tfidf in sorted_tfidf[:20]:\n",
        "        # Recalculate TF and get IDF for display\n",
        "        tf = japan_noun_counts[word]\n",
        "        tf_normalized = tf / total_nouns_in_japan\n",
        "        idf = idf_scores[word]\n",
        "        print(f\"単語: {word}, TF: {tf_normalized:.6f}, IDF: {idf:.6f}, TF-IDF: {tfidf:.6f}\")"
      ],
      "metadata": {
        "colab": {
          "base_uri": "https://localhost:8080/"
        },
        "id": "FoH90ZZ9CtIr",
        "outputId": "ef6373cd-bae3-4cd5-eb99-c4cf9bc90afb"
      },
      "id": "FoH90ZZ9CtIr",
      "execution_count": 5,
      "outputs": [
        {
          "output_type": "stream",
          "name": "stdout",
          "text": [
            "日本に関する記事における名詞のTF・IDFスコア上位 20 語:\n",
            "単語: .'''''', TF: 0.001402, IDF: 1.958081, TF-IDF: 0.002745\n",
            "単語: 倭国, TF: 0.001361, IDF: 1.987068, TF-IDF: 0.002704\n",
            "単語: 琉球, TF: 0.001237, IDF: 2.047693, TF-IDF: 0.002533\n",
            "単語: 沖縄, TF: 0.001320, IDF: 1.902511, TF-IDF: 0.002510\n",
            "単語: 天皇, TF: 0.001979, IDF: 1.264934, TF-IDF: 0.002504\n",
            "単語: ::, TF: 0.001526, IDF: 1.621608, TF-IDF: 0.002474\n",
            "単語: 倭, TF: 0.001072, IDF: 2.146133, TF-IDF: 0.002301\n",
            "単語: 列島, TF: 0.001278, IDF: 1.799857, TF-IDF: 0.002301\n",
            "単語: 唐, TF: 0.001031, IDF: 2.112231, TF-IDF: 0.002177\n",
            "単語: 明治, TF: 0.001402, IDF: 1.506096, TF-IDF: 0.002112\n",
            "単語: 日本書紀, TF: 0.000783, IDF: 2.517696, TF-IDF: 0.001973\n",
            "単語: E, TF: 0.002392, IDF: 0.812948, TF-IDF: 0.001944\n",
            "単語: 北海道, TF: 0.000948, IDF: 1.987068, TF-IDF: 0.001885\n",
            "単語: 北陸, TF: 0.000660, IDF: 2.680215, TF-IDF: 0.001768\n",
            "単語: 南西諸島, TF: 0.000619, IDF: 2.740840, TF-IDF: 0.001695\n",
            "単語: 奄美, TF: 0.000660, IDF: 2.568990, TF-IDF: 0.001695\n",
            "単語: 東アジア, TF: 0.000825, IDF: 2.047693, TF-IDF: 0.001689\n",
            "単語: 樺太, TF: 0.000660, IDF: 2.517696, TF-IDF: 0.001661\n",
            "単語: 本州, TF: 0.000619, IDF: 2.680215, TF-IDF: 0.001658\n",
            "単語: 秒, TF: 0.000577, IDF: 2.805379, TF-IDF: 0.001620\n"
          ]
        }
      ]
    },
    {
      "cell_type": "markdown",
      "id": "5f3b60e9-5d8e-4c2e-a68d-385c91713113",
      "metadata": {
        "id": "5f3b60e9-5d8e-4c2e-a68d-385c91713113"
      },
      "source": [
        "## 39. Zipfの法則\n",
        "コーパスにおける単語の出現頻度順位を横軸、その出現頻度を縦軸として、両対数グラフをプロットせよ。"
      ]
    },
    {
      "cell_type": "code",
      "source": [
        "import matplotlib.pyplot as plt\n",
        "import numpy as np\n",
        "\n",
        "# Assuming 'word_counts' is available from the previous cell (Problem 36)\n",
        "# If not, you might need to re-run the previous cell or calculate word_counts again.\n",
        "\n",
        "# Get frequencies and sort them in descending order\n",
        "frequencies = sorted(word_counts.values(), reverse=True)\n",
        "\n",
        "# Get the ranks (1-based)\n",
        "ranks = np.arange(1, len(frequencies) + 1)\n",
        "\n",
        "# Plot on a log-log scale\n",
        "plt.figure(figsize=(10, 6))\n",
        "plt.loglog(ranks, frequencies, marker='.', linestyle='None')\n",
        "plt.xlabel(\"出現頻度順位 (Rank)\")\n",
        "plt.ylabel(\"出現頻度 (Frequency)\")\n",
        "plt.title(\"Zipf の法則\")\n",
        "plt.grid(True, which=\"both\", linestyle='-.')\n",
        "plt.show()"
      ],
      "metadata": {
        "colab": {
          "base_uri": "https://localhost:8080/",
          "height": 916
        },
        "id": "42DoQZuwC-Ex",
        "outputId": "17bd04d7-26ee-43a5-99e8-75b86d8b10fe"
      },
      "id": "42DoQZuwC-Ex",
      "execution_count": 6,
      "outputs": [
        {
          "output_type": "stream",
          "name": "stderr",
          "text": [
            "/usr/local/lib/python3.12/dist-packages/IPython/core/pylabtools.py:151: UserWarning: Glyph 20986 (\\N{CJK UNIFIED IDEOGRAPH-51FA}) missing from font(s) DejaVu Sans.\n",
            "  fig.canvas.print_figure(bytes_io, **kw)\n",
            "/usr/local/lib/python3.12/dist-packages/IPython/core/pylabtools.py:151: UserWarning: Glyph 29694 (\\N{CJK UNIFIED IDEOGRAPH-73FE}) missing from font(s) DejaVu Sans.\n",
            "  fig.canvas.print_figure(bytes_io, **kw)\n",
            "/usr/local/lib/python3.12/dist-packages/IPython/core/pylabtools.py:151: UserWarning: Glyph 38971 (\\N{CJK UNIFIED IDEOGRAPH-983B}) missing from font(s) DejaVu Sans.\n",
            "  fig.canvas.print_figure(bytes_io, **kw)\n",
            "/usr/local/lib/python3.12/dist-packages/IPython/core/pylabtools.py:151: UserWarning: Glyph 24230 (\\N{CJK UNIFIED IDEOGRAPH-5EA6}) missing from font(s) DejaVu Sans.\n",
            "  fig.canvas.print_figure(bytes_io, **kw)\n",
            "/usr/local/lib/python3.12/dist-packages/IPython/core/pylabtools.py:151: UserWarning: Glyph 12398 (\\N{HIRAGANA LETTER NO}) missing from font(s) DejaVu Sans.\n",
            "  fig.canvas.print_figure(bytes_io, **kw)\n",
            "/usr/local/lib/python3.12/dist-packages/IPython/core/pylabtools.py:151: UserWarning: Glyph 27861 (\\N{CJK UNIFIED IDEOGRAPH-6CD5}) missing from font(s) DejaVu Sans.\n",
            "  fig.canvas.print_figure(bytes_io, **kw)\n",
            "/usr/local/lib/python3.12/dist-packages/IPython/core/pylabtools.py:151: UserWarning: Glyph 21063 (\\N{CJK UNIFIED IDEOGRAPH-5247}) missing from font(s) DejaVu Sans.\n",
            "  fig.canvas.print_figure(bytes_io, **kw)\n",
            "/usr/local/lib/python3.12/dist-packages/IPython/core/pylabtools.py:151: UserWarning: Glyph 38918 (\\N{CJK UNIFIED IDEOGRAPH-9806}) missing from font(s) DejaVu Sans.\n",
            "  fig.canvas.print_figure(bytes_io, **kw)\n",
            "/usr/local/lib/python3.12/dist-packages/IPython/core/pylabtools.py:151: UserWarning: Glyph 20301 (\\N{CJK UNIFIED IDEOGRAPH-4F4D}) missing from font(s) DejaVu Sans.\n",
            "  fig.canvas.print_figure(bytes_io, **kw)\n"
          ]
        },
        {
          "output_type": "display_data",
          "data": {
            "text/plain": [
              "<Figure size 1000x600 with 1 Axes>"
            ],
            "image/png": "[encoded data removed]"
          },
          "metadata": {}
        }
      ]
    }
  ],
  "metadata": {
    "colab": {
      "provenance": []
    },
    "kernelspec": {
      "display_name": "Python 3 (ipykernel)",
      "language": "python",
      "name": "python3"
    },
    "language_info": {
      "codemirror_mode": {
        "name": "ipython",
        "version": 3
      },
      "file_extension": ".py",
      "mimetype": "text/x-python",
      "name": "python",
      "nbconvert_exporter": "python",
      "pygments_lexer": "ipython3",
      "version": "3.12.3"
    }
  },
  "nbformat": 4,
  "nbformat_minor": 5
}